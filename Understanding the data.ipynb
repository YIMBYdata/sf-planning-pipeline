{
 "cells": [
  {
   "cell_type": "markdown",
   "metadata": {},
   "source": [
    "# Understanding the data\n",
    "There is a lot of information in these files, most of which I don't understand.  Can we figure out which rows are associated with each proposal?  Can we determine the status of the proposal?\n",
    "-Tristan"
   ]
  },
  {
   "cell_type": "markdown",
   "metadata": {},
   "source": [
    "# Setup"
   ]
  },
  {
   "cell_type": "code",
   "execution_count": 1,
   "metadata": {
    "collapsed": false
   },
   "outputs": [],
   "source": [
    "# packages\n",
    "import datetime\n",
    "import matplotlib as mp\n",
    "import numpy as np\n",
    "import pandas as pd\n",
    "import seaborn as sns\n",
    "import matplotlib.pyplot as plt\n",
    "import re\n",
    "\n",
    "# seaborn settings\n",
    "sns.set()\n",
    "sns.set_style('whitegrid')\n",
    "sns.set_style('ticks')"
   ]
  },
  {
   "cell_type": "code",
   "execution_count": 2,
   "metadata": {
    "collapsed": false
   },
   "outputs": [
    {
     "name": "stderr",
     "output_type": "stream",
     "text": [
      "C:\\Users\\Tristan\\Anaconda3\\lib\\site-packages\\IPython\\core\\interactiveshell.py:2723: DtypeWarning: Columns (28,31,32,33,34,36,38,39,40,41,42,43,44,45,46,48,119,163,167,168,169) have mixed types. Specify dtype option on import or set low_memory=False.\n",
      "  interactivity=interactivity, compiler=compiler, result=result)\n"
     ]
    }
   ],
   "source": [
    "# load data\n",
    "fields = pd.read_csv('planning-department-records-2018/DataSF_PPTS_Fields.csv')\n",
    "data = pd.read_csv('planning-department-records-2018/PPTS_Records_data.csv',\n",
    "                   parse_dates=['date_opened','date_closed',],\n",
    "                   infer_datetime_format=True)"
   ]
  },
  {
   "cell_type": "markdown",
   "metadata": {},
   "source": [
    "# Record types\n",
    "Through some sleuthing, I've determined that there is a hierarchy of categorization.\n",
    "\n",
    "- record_type_group: 'planning' for all data\n",
    "- record_type_type: 5 categories: 'Project', 'Applications', 'Complaint', 'Other', 'Research'\n",
    "- record_type_subtype: 17 categories\n",
    "- record_type: 63 categories.  Each one, except for 'Other' is given a 3-letter abbreviation.  The abbreviations are in the column record_type_category.  Note that there are a bunch of typos in these two columns, mostly when people fail to follow a consistent format.\n",
    "- record_type_4level contains the entire hierarchy"
   ]
  },
  {
   "cell_type": "code",
   "execution_count": 82,
   "metadata": {
    "collapsed": false
   },
   "outputs": [
    {
     "data": {
      "text/plain": [
       "['Planning/Applications/Appeal/APL',\n",
       " 'Planning/Applications/Citywide Planning/CWP',\n",
       " 'Planning/Applications/Citywide Planning/GPL',\n",
       " 'Planning/Applications/Commission Review/CRV',\n",
       " 'Planning/Applications/Commission Review/IMP',\n",
       " 'Planning/Applications/Discretionary Review/DRM',\n",
       " 'Planning/Applications/Discretionary Review/DRP',\n",
       " 'Planning/Applications/Environmental/CATEX-EEC',\n",
       " 'Planning/Applications/Environmental/Community Plan Determin-ECD',\n",
       " 'Planning/Applications/Environmental/Community Plan Exemption-ECE',\n",
       " 'Planning/Applications/Environmental/Community Plan Focused EIR-EIF',\n",
       " 'Planning/Applications/Environmental/EIR Addendum-EIA',\n",
       " 'Planning/Applications/Environmental/EIR Fee',\n",
       " 'Planning/Applications/Environmental/ENV',\n",
       " 'Planning/Applications/Environmental/Environmental T and M-ETM',\n",
       " 'Planning/Applications/Environmental/Initial Study-EEA',\n",
       " 'Planning/Applications/Environmental/Neg Dec Addendum-ENA',\n",
       " 'Planning/Applications/Environmental/Transportation Abbrev-ETA',\n",
       " 'Planning/Applications/Environmental/Transportation Study-ETR',\n",
       " 'Planning/Applications/General/GEN',\n",
       " 'Planning/Applications/General/PHA',\n",
       " 'Planning/Applications/Historical/DES',\n",
       " 'Planning/Applications/Historical/FED',\n",
       " 'Planning/Applications/Historical/MLS',\n",
       " 'Planning/Applications/In-kind Agreements/IKA',\n",
       " 'Planning/Applications/Legislation/DVA',\n",
       " 'Planning/Applications/Legislation/GPA',\n",
       " 'Planning/Applications/Legislation/MAP',\n",
       " 'Planning/Applications/Legislation/PCA',\n",
       " 'Planning/Applications/Planning Entitlements/AHB',\n",
       " 'Planning/Applications/Planning Entitlements/COA',\n",
       " 'Planning/Applications/Planning Entitlements/CTZ',\n",
       " 'Planning/Applications/Planning Entitlements/CUA',\n",
       " 'Planning/Applications/Planning Entitlements/DNX',\n",
       " 'Planning/Applications/Planning Entitlements/ENX',\n",
       " 'Planning/Applications/Planning Entitlements/OFA',\n",
       " 'Planning/Applications/Planning Entitlements/PTA',\n",
       " 'Planning/Applications/Planning Entitlements/SHD',\n",
       " 'Planning/Applications/Planning Entitlements/TDM',\n",
       " 'Planning/Applications/Planning Entitlements/VAR',\n",
       " 'Planning/Applications/Planning Entitlements/WLS',\n",
       " 'Planning/Applications/Project Review/PPA',\n",
       " 'Planning/Applications/Project Review/PRV',\n",
       " 'Planning/Applications/Referral/CND',\n",
       " 'Planning/Applications/Referral/GPR',\n",
       " 'Planning/Applications/Referral/LBR',\n",
       " 'Planning/Applications/Referral/LLA',\n",
       " 'Planning/Applications/Referral/MIS',\n",
       " 'Planning/Applications/Referral/SUB',\n",
       " 'Planning/Complaint/Code Enforcement/ENF',\n",
       " 'Planning/Other/Other/GAS',\n",
       " 'Planning/Other/Other/Other',\n",
       " 'Planning/Project/Project/MCM',\n",
       " 'Planning/Project/Project/PRJ',\n",
       " 'Planning/Project/Project/PRL',\n",
       " 'Planning/Research/Letters/GNC',\n",
       " 'Planning/Research/Letters/TDE',\n",
       " 'Planning/Research/Letters/TDT',\n",
       " 'Planning/Research/Letters/TDU',\n",
       " 'Planning/Research/Letters/ZAD',\n",
       " 'Planning/Research/Letters/ZAN',\n",
       " 'Planning/Research/Letters/ZAV',\n",
       " 'Planning/Research/PIC Research/PIC']"
      ]
     },
     "execution_count": 82,
     "metadata": {},
     "output_type": "execute_result"
    }
   ],
   "source": [
    "sorted(data['record_type_4level'].unique())"
   ]
  },
  {
   "cell_type": "code",
   "execution_count": 85,
   "metadata": {
    "collapsed": false
   },
   "outputs": [
    {
     "name": "stdout",
     "output_type": "stream",
     "text": [
      "['Environmental', 'Conditional Use Authorization', 'Variance', 'General Plan Referral', 'Discretionary Review - Public Initiated', 'Other', 'Discretionary Review - Manditory (DRM)']\n"
     ]
    }
   ],
   "source": [
    "# make a dict expanding out each abbreviation.\n",
    "# also, print out any anomalies in the record_type column.\n",
    "\n",
    "# note that there are also anomalies in the record_type_category column\n",
    "# it seems it's supposed to contain 3-letter abbreviations, but the environmental department doesn't follow that format.\n",
    "\n",
    "oddity_list = []\n",
    "record_abbr = {}\n",
    "for record_type in data['record_type'].unique():\n",
    "    m = re.match('^(.*) \\((...)\\)',record_type)\n",
    "    if(m):\n",
    "        if m.groups()[1] in record_abbr:\n",
    "            oddity_list.append(record_type)\n",
    "        else:\n",
    "            record_abbr[m.groups()[1]] = m.groups()[0]\n",
    "    else:\n",
    "        oddity_list.append(record_type)\n",
    "\n",
    "record_type_dict['Other'] = 'Other'\n",
    "\n",
    "print(oddity_list)"
   ]
  },
  {
   "cell_type": "markdown",
   "metadata": {},
   "source": [
    "# Families of associated entries\n",
    "Each proposal should be associated with several entries.  For instance, there may be one for the project proposal, one for the research, several for applications, etc.  Here I try to group entries into families.\n",
    "\n",
    "The first method I tried is to look at parents or children.  It seems that this is not always reliable.  Another method is to look at addresses, but this is also not reliable because sometimes the address is nan, or it appears in different formats.  A more reliable method is to use the_geom, which is never nan.  However, the_geom picks out buildings, not projects.  A single building may have a lot of unrelated paperwork associated with it."
   ]
  },
  {
   "cell_type": "code",
   "execution_count": 3,
   "metadata": {
    "collapsed": false
   },
   "outputs": [],
   "source": [
    "#return a list of rows of family members, based on parent/children columns\n",
    "def get_family(data,row):\n",
    "    members = {}\n",
    "    find_family(data,members,row,1)\n",
    "    return list(members.values())\n",
    "\n",
    "def find_family(data,members,curr_row,stacklevel):\n",
    "    if stacklevel>40:\n",
    "        print('Error: too many recursions on row %i' % curr_row)\n",
    "        return\n",
    "    members[data.loc[curr_row,'record_id']] = curr_row\n",
    "    family = []\n",
    "    if not pd.isna(data.loc[curr_row,'parent']):\n",
    "        family += data.loc[curr_row,'parent'].split(',')\n",
    "    if not pd.isna(data.loc[curr_row,'children']):\n",
    "        family += data.loc[curr_row,'children'].split(',')\n",
    "    for member in family:\n",
    "        if member not in members:\n",
    "            #find row of the member\n",
    "            member_match = np.where(data['record_id'] == member)[0]\n",
    "            if(len(member_match > 0)):\n",
    "                find_family(data,members,member_match[0],stacklevel+1)\n"
   ]
  },
  {
   "cell_type": "code",
   "execution_count": 104,
   "metadata": {
    "collapsed": true
   },
   "outputs": [],
   "source": [
    "#return a list of rows associated with the same building\n",
    "def get_building(data,row):\n",
    "    my_geom = data.loc[row,'the_geom']\n",
    "    member_match = np.where(data['the_geom'] == my_geom)[0]\n",
    "    return list(member_match)\n",
    "\n",
    "#return a list of rows associated with the same address\n",
    "#unfortunately, addresses aren't always in a consistent format\n",
    "def get_address(data,row):\n",
    "    my_address = data.loc[row,'address']\n",
    "    member_match = np.where(data['address'] == my_address)[0]\n",
    "    return list(member_match)"
   ]
  },
  {
   "cell_type": "code",
   "execution_count": 121,
   "metadata": {
    "collapsed": true
   },
   "outputs": [],
   "source": [
    "#takes the output of get_building, and divides the list into families\n",
    "#returns a dict with each index as a key, and the family number as the value\n",
    "def divide_by_family(data,building):\n",
    "    if type(building) != list:\n",
    "        building = get_building(data,building)\n",
    "    family_ids = {}\n",
    "    i = 1\n",
    "    for b in building:\n",
    "        if b not in family_ids:\n",
    "            family = get_family(data,b)\n",
    "            for member in family:\n",
    "                family_ids[member] = i\n",
    "            i += 1\n",
    "    return(family_ids)"
   ]
  },
  {
   "cell_type": "markdown",
   "metadata": {},
   "source": [
    "# Building stories\n",
    "I thought I'd look at a few examples of buildings, to get a sense of what they look like.\n",
    "\n",
    "Overall, my impression is that there are a lot of unrelated stories going on with each building.  Sometimes there are multiple project proposals, sometimes there are a bunch of miscellaneous stuff like complaints.  I'm still not sure how to determine the status of a project, but if the information is spread across multiple rows it may be difficult to figure out which rows to look at.  No, the 'family' doesn't help, I checked."
   ]
  },
  {
   "cell_type": "code",
   "execution_count": 126,
   "metadata": {
    "collapsed": true
   },
   "outputs": [],
   "source": [
    "def tell_story(data,row):\n",
    "    building = get_building(data,row)\n",
    "    location = data.loc[building,:]\n",
    "    family_ids = divide_by_family(data,building)\n",
    "    #print the first valid address\n",
    "    for i in range(location.shape[0]):\n",
    "        if not pd.isna(location['address'].iloc[i]):\n",
    "            print(location['address'].iloc[i])\n",
    "            break\n",
    "    location.sort_values('date_opened',inplace=True)\n",
    "    for i in range(location.shape[0]):\n",
    "        print('')\n",
    "        #print('family %s' % family_ids[location.index[i]],location['date_opened'].iloc[i], location['record_type'].iloc[i], location['record_status'].iloc[i])\n",
    "        print(location['date_opened'].iloc[i], location['record_type'].iloc[i], location['record_status'].iloc[i])\n",
    "        print(location['description'].iloc[i])"
   ]
  },
  {
   "cell_type": "code",
   "execution_count": 68,
   "metadata": {
    "collapsed": false
   },
   "outputs": [
    {
     "name": "stdout",
     "output_type": "stream",
     "text": [
      "[82, 5861, 5864, 9766, 18982, 28271, 49426, 89982, 98653, 108095, 138800, 145264, 150667, 152836, 163170, 169650, 178576, 183313]\n"
     ]
    }
   ],
   "source": [
    "i = 82\n",
    "print(get_building(data,i))"
   ]
  },
  {
   "cell_type": "code",
   "execution_count": 6,
   "metadata": {
    "collapsed": false,
    "scrolled": true
   },
   "outputs": [
    {
     "data": {
      "text/plain": [
       "82                                        234 01ST ST 94105\n",
       "5861                                      246 01ST ST 94105\n",
       "5864                                      234 01ST ST 94105\n",
       "9766                                      234 01ST ST 94105\n",
       "18982                  234 01ST ST, SAN FRANCISCO, CA 94105\n",
       "28271      246 01ST ST, #3RD FLOOR, SAN FRANCISCO, CA 94105\n",
       "49426                  234 01ST ST, SAN FRANCISCO, CA 94105\n",
       "89982                  234 01ST ST, SAN FRANCISCO, CA 94105\n",
       "98653                                     234 01ST ST 94105\n",
       "108095                                    246 01ST ST 94105\n",
       "138800                                    246 01ST ST 94105\n",
       "145264                                    246 01ST ST 94105\n",
       "150667                                    246 01ST ST 94105\n",
       "152836                                    246 01ST ST 94105\n",
       "163170    246 01ST ST, #STREET LEV, SAN FRANCISCO, CA 94105\n",
       "169650                                    246 01ST ST 94105\n",
       "178576                                    246 01ST ST 94105\n",
       "183313                 234 01ST ST, SAN FRANCISCO, CA 94105\n",
       "Name: address, dtype: object"
      ]
     },
     "execution_count": 6,
     "metadata": {},
     "output_type": "execute_result"
    }
   ],
   "source": [
    "#we can see that even though it's just one building, the address is inconsistent.\n",
    "data.loc[get_building(data,i),'address']"
   ]
  },
  {
   "cell_type": "code",
   "execution_count": 127,
   "metadata": {
    "collapsed": false
   },
   "outputs": [],
   "source": [
    "#I'm commenting out the part where I print the story, to reduce clutter\n",
    "#tell_story(data,82)"
   ]
  },
  {
   "cell_type": "markdown",
   "metadata": {},
   "source": [
    "234 1st St is an apartment building (which also has the address 246 1st St).  In 2006 there was a permit to create a massage establishment on the ground floor.  In 2008, there was a permit to move a tenant on the third floor.  There are a bunch of permits and project proposals related to AT&T and T-mobile wanting to replace equipment at the top of the building.  In 2015, there was a proposal to renovate the building.  It starts out as a PRV (project review meeting), followed by a PRJ (project profile).  A year later they file a PTA (permit to alter), which is approved.  However, the status of the project is marked as \"under review\" which might mean they still haven't gotten permission.\n",
    "\n",
    "In 2017, there are a few extra entries.  There are two letters: one TDU (notice of use), and one ZAV (zoning verification).  And it seems like someone applied for it to be designated as a historical landmark, which was approved.\n",
    "\n",
    "TL;DR: there are a lot of things going on in a single building.  There was one major construction proposal, which I don't think ever got through.  And I wonder if opponents of the proposal made the building into a landmark."
   ]
  },
  {
   "cell_type": "code",
   "execution_count": 70,
   "metadata": {
    "collapsed": false
   },
   "outputs": [],
   "source": [
    "#tell_story(data,3)"
   ]
  },
  {
   "cell_type": "markdown",
   "metadata": {},
   "source": [
    "900 Sansome is a public parking lot.  In 2009 there was one project to replace a window, which had to get through COA and CUA, but is apparently closed, so maybe it passed?  Most of the rest seems to be an annual renewal of some permit for parking facilities.  There are also a few complaints about signs being wrong"
   ]
  },
  {
   "cell_type": "code",
   "execution_count": 71,
   "metadata": {
    "collapsed": false
   },
   "outputs": [],
   "source": [
    "#tell_story(data,0)"
   ]
  },
  {
   "cell_type": "markdown",
   "metadata": {},
   "source": [
    "875 Sansome is currently a two-story office space.  Since 2016 they have been looking into replacing it with a 6-story mixed use building.  A project profile was finally made in 2018, and it would add 6 residential units (which I take it means that all of them are market rate).  The CUA is currently under review."
   ]
  },
  {
   "cell_type": "code",
   "execution_count": 95,
   "metadata": {
    "collapsed": false
   },
   "outputs": [],
   "source": [
    "#tell_story(data,23499)"
   ]
  },
  {
   "cell_type": "markdown",
   "metadata": {},
   "source": [
    "383 King St is a condo building.  The project to construct it was started in 2006, and I presume that it finished.  Later, in 2016 and later, there are several complaints about illegal short-term rentals through AirBnB."
   ]
  },
  {
   "cell_type": "markdown",
   "metadata": {},
   "source": [
    "# Project statuses\n",
    "Here I try to determine what kinds of statuses a project can have.  In progress."
   ]
  },
  {
   "cell_type": "code",
   "execution_count": 98,
   "metadata": {
    "collapsed": false
   },
   "outputs": [
    {
     "data": {
      "text/plain": [
       "array(['Accepted', 'Withdrawn', 'Closed', 'Closed - Withdrawn', 'Open',\n",
       "       'Under Review', 'Application Accepted', nan, 'Complete',\n",
       "       'Submitted', 'Pending', 'Closed - Approved', 'Approved', 'On Hold',\n",
       "       'Incomplete', 'Actions Pending', 'Pending Review', 'Denied',\n",
       "       'Disapproved', 'Closed - Complete'], dtype=object)"
      ]
     },
     "execution_count": 98,
     "metadata": {},
     "output_type": "execute_result"
    }
   ],
   "source": [
    "data.loc[data['record_type_category']=='PRJ','record_status'].unique()"
   ]
  },
  {
   "cell_type": "code",
   "execution_count": null,
   "metadata": {
    "collapsed": true
   },
   "outputs": [],
   "source": []
  }
 ],
 "metadata": {
  "kernelspec": {
   "display_name": "Python [Anaconda3]",
   "language": "python",
   "name": "Python [Anaconda3]"
  },
  "language_info": {
   "codemirror_mode": {
    "name": "ipython",
    "version": 3
   },
   "file_extension": ".py",
   "mimetype": "text/x-python",
   "name": "python",
   "nbconvert_exporter": "python",
   "pygments_lexer": "ipython3",
   "version": "3.5.5"
  }
 },
 "nbformat": 4,
 "nbformat_minor": 0
}
