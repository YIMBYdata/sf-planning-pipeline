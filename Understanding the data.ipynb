{
 "cells": [
  {
   "cell_type": "markdown",
   "metadata": {},
   "source": [
    "# Understanding the data\n",
    "There is a lot of information in these files, most of which I don't understand.  Can we figure out which rows are associated with each proposal?  Can we determine the status of the proposal?\n",
    "\n",
    "This workspace also includes progress towards transferring the data to a relational database.  But all that code should also be in database_creator.py\n",
    "\n",
    "-Tristan"
   ]
  },
  {
   "cell_type": "markdown",
   "metadata": {},
   "source": [
    "# Setup"
   ]
  },
  {
   "cell_type": "code",
   "execution_count": 1,
   "metadata": {
    "collapsed": false
   },
   "outputs": [],
   "source": [
    "# packages\n",
    "import datetime\n",
    "import matplotlib as mp\n",
    "import numpy as np\n",
    "import pandas as pd\n",
    "import seaborn as sns\n",
    "import matplotlib.pyplot as plt\n",
    "import re\n",
    "import sys\n",
    "\n",
    "# seaborn settings\n",
    "sns.set()\n",
    "sns.set_style('whitegrid')\n",
    "sns.set_style('ticks')"
   ]
  },
  {
   "cell_type": "code",
   "execution_count": 2,
   "metadata": {
    "collapsed": false
   },
   "outputs": [
    {
     "name": "stderr",
     "output_type": "stream",
     "text": [
      "C:\\Users\\Tristan\\Anaconda3\\lib\\site-packages\\IPython\\core\\interactiveshell.py:2723: DtypeWarning: Columns (28,31,32,33,34,36,38,39,40,41,42,43,44,45,46,48,119,163,167,168,169) have mixed types. Specify dtype option on import or set low_memory=False.\n",
      "  interactivity=interactivity, compiler=compiler, result=result)\n"
     ]
    }
   ],
   "source": [
    "# load data\n",
    "fields = pd.read_csv('planning-department-records-2018/DataSF_PPTS_Fields.csv')\n",
    "data = pd.read_csv('planning-department-records-2018/PPTS_Records_data.csv',\n",
    "#                   parse_dates=['date_opened','date_closed',],\n",
    "                   infer_datetime_format=True)"
   ]
  },
  {
   "cell_type": "code",
   "execution_count": 3,
   "metadata": {
    "collapsed": true
   },
   "outputs": [],
   "source": [
    "datacopy = data.copy()"
   ]
  },
  {
   "cell_type": "code",
   "execution_count": 5,
   "metadata": {
    "collapsed": false
   },
   "outputs": [],
   "source": [
    "if 'database_creator' in sys.modules:\n",
    "    del sys.modules['database_creator']\n",
    "from database_creator import *"
   ]
  },
  {
   "cell_type": "markdown",
   "metadata": {},
   "source": [
    "# Record types\n",
    "Through some sleuthing, I've determined that there is a hierarchy of categorization.\n",
    "\n",
    "- record_type_group: 'planning' for all data\n",
    "- record_type_type: 5 categories: 'Project', 'Applications', 'Complaint', 'Other', 'Research'\n",
    "- record_type_subtype: 17 categories\n",
    "- record_type: 63 categories.  Each one, except for 'Other' is given a 3-letter abbreviation.  The abbreviations are in the column record_type_category.  Note that there are a bunch of typos in these two columns, mostly when people fail to follow a consistent format.\n",
    "- record_type_4level contains the entire hierarchy"
   ]
  },
  {
   "cell_type": "code",
   "execution_count": 82,
   "metadata": {
    "collapsed": false,
    "scrolled": true
   },
   "outputs": [
    {
     "data": {
      "text/plain": [
       "['Planning/Applications/Appeal/APL',\n",
       " 'Planning/Applications/Citywide Planning/CWP',\n",
       " 'Planning/Applications/Citywide Planning/GPL',\n",
       " 'Planning/Applications/Commission Review/CRV',\n",
       " 'Planning/Applications/Commission Review/IMP',\n",
       " 'Planning/Applications/Discretionary Review/DRM',\n",
       " 'Planning/Applications/Discretionary Review/DRP',\n",
       " 'Planning/Applications/Environmental/CATEX-EEC',\n",
       " 'Planning/Applications/Environmental/Community Plan Determin-ECD',\n",
       " 'Planning/Applications/Environmental/Community Plan Exemption-ECE',\n",
       " 'Planning/Applications/Environmental/Community Plan Focused EIR-EIF',\n",
       " 'Planning/Applications/Environmental/EIR Addendum-EIA',\n",
       " 'Planning/Applications/Environmental/EIR Fee',\n",
       " 'Planning/Applications/Environmental/ENV',\n",
       " 'Planning/Applications/Environmental/Environmental T and M-ETM',\n",
       " 'Planning/Applications/Environmental/Initial Study-EEA',\n",
       " 'Planning/Applications/Environmental/Neg Dec Addendum-ENA',\n",
       " 'Planning/Applications/Environmental/Transportation Abbrev-ETA',\n",
       " 'Planning/Applications/Environmental/Transportation Study-ETR',\n",
       " 'Planning/Applications/General/GEN',\n",
       " 'Planning/Applications/General/PHA',\n",
       " 'Planning/Applications/Historical/DES',\n",
       " 'Planning/Applications/Historical/FED',\n",
       " 'Planning/Applications/Historical/MLS',\n",
       " 'Planning/Applications/In-kind Agreements/IKA',\n",
       " 'Planning/Applications/Legislation/DVA',\n",
       " 'Planning/Applications/Legislation/GPA',\n",
       " 'Planning/Applications/Legislation/MAP',\n",
       " 'Planning/Applications/Legislation/PCA',\n",
       " 'Planning/Applications/Planning Entitlements/AHB',\n",
       " 'Planning/Applications/Planning Entitlements/COA',\n",
       " 'Planning/Applications/Planning Entitlements/CTZ',\n",
       " 'Planning/Applications/Planning Entitlements/CUA',\n",
       " 'Planning/Applications/Planning Entitlements/DNX',\n",
       " 'Planning/Applications/Planning Entitlements/ENX',\n",
       " 'Planning/Applications/Planning Entitlements/OFA',\n",
       " 'Planning/Applications/Planning Entitlements/PTA',\n",
       " 'Planning/Applications/Planning Entitlements/SHD',\n",
       " 'Planning/Applications/Planning Entitlements/TDM',\n",
       " 'Planning/Applications/Planning Entitlements/VAR',\n",
       " 'Planning/Applications/Planning Entitlements/WLS',\n",
       " 'Planning/Applications/Project Review/PPA',\n",
       " 'Planning/Applications/Project Review/PRV',\n",
       " 'Planning/Applications/Referral/CND',\n",
       " 'Planning/Applications/Referral/GPR',\n",
       " 'Planning/Applications/Referral/LBR',\n",
       " 'Planning/Applications/Referral/LLA',\n",
       " 'Planning/Applications/Referral/MIS',\n",
       " 'Planning/Applications/Referral/SUB',\n",
       " 'Planning/Complaint/Code Enforcement/ENF',\n",
       " 'Planning/Other/Other/GAS',\n",
       " 'Planning/Other/Other/Other',\n",
       " 'Planning/Project/Project/MCM',\n",
       " 'Planning/Project/Project/PRJ',\n",
       " 'Planning/Project/Project/PRL',\n",
       " 'Planning/Research/Letters/GNC',\n",
       " 'Planning/Research/Letters/TDE',\n",
       " 'Planning/Research/Letters/TDT',\n",
       " 'Planning/Research/Letters/TDU',\n",
       " 'Planning/Research/Letters/ZAD',\n",
       " 'Planning/Research/Letters/ZAN',\n",
       " 'Planning/Research/Letters/ZAV',\n",
       " 'Planning/Research/PIC Research/PIC']"
      ]
     },
     "execution_count": 82,
     "metadata": {},
     "output_type": "execute_result"
    }
   ],
   "source": [
    "sorted(data['record_type_4level'].unique())"
   ]
  },
  {
   "cell_type": "code",
   "execution_count": 8,
   "metadata": {
    "collapsed": false
   },
   "outputs": [
    {
     "name": "stdout",
     "output_type": "stream",
     "text": [
      "['Environmental', 'Conditional Use Authorization', 'Variance', 'General Plan Referral', 'Discretionary Review - Public Initiated', 'Other', 'Discretionary Review - Manditory (DRM)']\n"
     ]
    }
   ],
   "source": [
    "# make a dict expanding out each abbreviation.\n",
    "# also, print out any anomalies in the record_type column.\n",
    "\n",
    "# note that there are also anomalies in the record_type_category column\n",
    "# it seems it's supposed to contain 3-letter abbreviations, but the environmental department doesn't follow that format.\n",
    "record_type_dict = {}\n",
    "\n",
    "oddity_list = []\n",
    "record_abbr = {}\n",
    "for record_type in data['record_type'].unique():\n",
    "    m = re.match('^(.*) \\((...)\\)',record_type)\n",
    "    if(m):\n",
    "        if m.groups()[1] in record_abbr:\n",
    "            oddity_list.append(record_type)\n",
    "        else:\n",
    "            record_abbr[m.groups()[1]] = m.groups()[0]\n",
    "    else:\n",
    "        oddity_list.append(record_type)\n",
    "\n",
    "record_type_dict['Other'] = 'Other'\n",
    "\n",
    "print(oddity_list)"
   ]
  },
  {
   "cell_type": "markdown",
   "metadata": {},
   "source": [
    "# Standardizing record_type\n",
    "With an eye towards creating a relational database, I'm writing code to create a record_type table and standardize the record_type_category column"
   ]
  },
  {
   "cell_type": "code",
   "execution_count": 31,
   "metadata": {
    "collapsed": false
   },
   "outputs": [],
   "source": [
    "#create a dataframe for record types\n",
    "record_type = record_type_table(data)"
   ]
  },
  {
   "cell_type": "code",
   "execution_count": 36,
   "metadata": {
    "collapsed": false
   },
   "outputs": [
    {
     "data": {
      "text/html": [
       "<div>\n",
       "<style scoped>\n",
       "    .dataframe tbody tr th:only-of-type {\n",
       "        vertical-align: middle;\n",
       "    }\n",
       "\n",
       "    .dataframe tbody tr th {\n",
       "        vertical-align: top;\n",
       "    }\n",
       "\n",
       "    .dataframe thead th {\n",
       "        text-align: right;\n",
       "    }\n",
       "</style>\n",
       "<table border=\"1\" class=\"dataframe\">\n",
       "  <thead>\n",
       "    <tr style=\"text-align: right;\">\n",
       "      <th></th>\n",
       "      <th>original_type</th>\n",
       "      <th>record_type_name</th>\n",
       "      <th>record_type_cat</th>\n",
       "      <th>record_type_subcat</th>\n",
       "      <th>record_type</th>\n",
       "    </tr>\n",
       "  </thead>\n",
       "  <tbody>\n",
       "    <tr>\n",
       "      <th>0</th>\n",
       "      <td>PRJ</td>\n",
       "      <td>Project Profile (PRJ)</td>\n",
       "      <td>Project</td>\n",
       "      <td>Project</td>\n",
       "      <td>PRJ</td>\n",
       "    </tr>\n",
       "    <tr>\n",
       "      <th>1</th>\n",
       "      <td>ENV</td>\n",
       "      <td>Environmental (ENV)</td>\n",
       "      <td>Applications</td>\n",
       "      <td>Environmental</td>\n",
       "      <td>ENV</td>\n",
       "    </tr>\n",
       "    <tr>\n",
       "      <th>2</th>\n",
       "      <td>MIS</td>\n",
       "      <td>Misc. Permits-REF (MIS)</td>\n",
       "      <td>Applications</td>\n",
       "      <td>Referral</td>\n",
       "      <td>MIS</td>\n",
       "    </tr>\n",
       "    <tr>\n",
       "      <th>3</th>\n",
       "      <td>COA</td>\n",
       "      <td>Certificate of Appropriateness (COA)</td>\n",
       "      <td>Applications</td>\n",
       "      <td>Planning Entitlements</td>\n",
       "      <td>COA</td>\n",
       "    </tr>\n",
       "    <tr>\n",
       "      <th>4</th>\n",
       "      <td>ENF</td>\n",
       "      <td>Enforcement (ENF)</td>\n",
       "      <td>Complaint</td>\n",
       "      <td>Code Enforcement</td>\n",
       "      <td>ENF</td>\n",
       "    </tr>\n",
       "  </tbody>\n",
       "</table>\n",
       "</div>"
      ],
      "text/plain": [
       "  original_type                      record_type_name record_type_cat  \\\n",
       "0           PRJ                 Project Profile (PRJ)         Project   \n",
       "1           ENV                   Environmental (ENV)    Applications   \n",
       "2           MIS               Misc. Permits-REF (MIS)    Applications   \n",
       "3           COA  Certificate of Appropriateness (COA)    Applications   \n",
       "4           ENF                     Enforcement (ENF)       Complaint   \n",
       "\n",
       "      record_type_subcat record_type  \n",
       "0                Project         PRJ  \n",
       "1          Environmental         ENV  \n",
       "2               Referral         MIS  \n",
       "3  Planning Entitlements         COA  \n",
       "4       Code Enforcement         ENF  "
      ]
     },
     "execution_count": 36,
     "metadata": {},
     "output_type": "execute_result"
    }
   ],
   "source": [
    "#original_type contains original record_type_category\n",
    "#record_type contains original_type after format standardization\n",
    "record_type.head()"
   ]
  },
  {
   "cell_type": "code",
   "execution_count": 53,
   "metadata": {
    "collapsed": false
   },
   "outputs": [],
   "source": [
    "#use record_type table to rename the record_type_category column\n",
    "data = clean_record_type(data,record_type)"
   ]
  },
  {
   "cell_type": "markdown",
   "metadata": {},
   "source": [
    "# Families of associated entries\n",
    "Each proposal should be associated with several entries.  For instance, there may be one for the project proposal, one for the research, several for applications, etc.  Here I try to group entries into families.\n",
    "\n",
    "The first method I tried is to look at parents or children.  It seems that this is not always reliable.  Another method is to look at addresses, but this is also not reliable because sometimes the address is nan, or it appears in different formats.  A more reliable method is to use the_geom, which is never nan.  However, the_geom picks out buildings, not projects.  A single building may have a lot of unrelated paperwork associated with it."
   ]
  },
  {
   "cell_type": "code",
   "execution_count": 57,
   "metadata": {
    "collapsed": false
   },
   "outputs": [],
   "source": [
    "#return a list of rows of family members, based on parent/children columns\n",
    "def get_family(data,row):\n",
    "    members = {}\n",
    "    find_family(data,members,row,1)\n",
    "    return list(members.values())\n",
    "\n",
    "def find_family(data,members,curr_row,stacklevel):\n",
    "    if stacklevel>40:\n",
    "        print('Error: too many recursions on row %i' % curr_row)\n",
    "        return\n",
    "    members[data.loc[curr_row,'record_id']] = curr_row\n",
    "    family = []\n",
    "    if not pd.isna(data.loc[curr_row,'parent']):\n",
    "        family += data.loc[curr_row,'parent'].split(',')\n",
    "    if not pd.isna(data.loc[curr_row,'children']):\n",
    "        family += data.loc[curr_row,'children'].split(',')\n",
    "    for member in family:\n",
    "        if member not in members:\n",
    "            #find row of the member\n",
    "            member_match = np.where(data['record_id'] == member)[0]\n",
    "            if(len(member_match > 0)):\n",
    "                find_family(data,members,member_match[0],stacklevel+1)\n"
   ]
  },
  {
   "cell_type": "code",
   "execution_count": 286,
   "metadata": {
    "collapsed": true
   },
   "outputs": [],
   "source": [
    "#return a list of rows associated with the same building\n",
    "def get_building(data,row):\n",
    "    my_geom = data.loc[row,'the_geom']\n",
    "    member_match = np.where(data['the_geom'] == my_geom)[0]\n",
    "    return list(member_match)\n",
    "\n",
    "#return a list of rows associated with the same address\n",
    "#unfortunately, addresses aren't always in a consistent format\n",
    "def get_address(data,row):\n",
    "    my_address = data.loc[row,'address']\n",
    "    member_match = np.where(data['address'] == my_address)[0]\n",
    "    return list(member_match)"
   ]
  },
  {
   "cell_type": "code",
   "execution_count": 287,
   "metadata": {
    "collapsed": true
   },
   "outputs": [],
   "source": [
    "#takes the output of get_building, and divides the list into families\n",
    "#returns a dict with each index as a key, and the family number as the value\n",
    "def divide_by_family(data,building):\n",
    "    if type(building) != list:\n",
    "        building = get_building(data,building)\n",
    "    family_ids = {}\n",
    "    i = 1\n",
    "    for b in building:\n",
    "        if b not in family_ids:\n",
    "            family = get_family(data,b)\n",
    "            for member in family:\n",
    "                family_ids[member] = i\n",
    "            i += 1\n",
    "    return(family_ids)"
   ]
  },
  {
   "cell_type": "markdown",
   "metadata": {},
   "source": [
    "# Location and record_rel tables\n",
    "For the relational database, need to create tables for locations, and relations between records."
   ]
  },
  {
   "cell_type": "code",
   "execution_count": 97,
   "metadata": {
    "collapsed": false
   },
   "outputs": [],
   "source": [
    "record_rel = record_rel_table(data)"
   ]
  },
  {
   "cell_type": "code",
   "execution_count": 98,
   "metadata": {
    "collapsed": false
   },
   "outputs": [
    {
     "data": {
      "text/html": [
       "<div>\n",
       "<style scoped>\n",
       "    .dataframe tbody tr th:only-of-type {\n",
       "        vertical-align: middle;\n",
       "    }\n",
       "\n",
       "    .dataframe tbody tr th {\n",
       "        vertical-align: top;\n",
       "    }\n",
       "\n",
       "    .dataframe thead th {\n",
       "        text-align: right;\n",
       "    }\n",
       "</style>\n",
       "<table border=\"1\" class=\"dataframe\">\n",
       "  <thead>\n",
       "    <tr style=\"text-align: right;\">\n",
       "      <th></th>\n",
       "      <th>child_id</th>\n",
       "      <th>parent_id</th>\n",
       "    </tr>\n",
       "  </thead>\n",
       "  <tbody>\n",
       "    <tr>\n",
       "      <th>0</th>\n",
       "      <td>0</td>\n",
       "      <td>132846</td>\n",
       "    </tr>\n",
       "    <tr>\n",
       "      <th>1</th>\n",
       "      <td>0</td>\n",
       "      <td>110576</td>\n",
       "    </tr>\n",
       "    <tr>\n",
       "      <th>2</th>\n",
       "      <td>0</td>\n",
       "      <td>164661</td>\n",
       "    </tr>\n",
       "    <tr>\n",
       "      <th>3</th>\n",
       "      <td>6</td>\n",
       "      <td>152516</td>\n",
       "    </tr>\n",
       "    <tr>\n",
       "      <th>4</th>\n",
       "      <td>18</td>\n",
       "      <td>39078</td>\n",
       "    </tr>\n",
       "  </tbody>\n",
       "</table>\n",
       "</div>"
      ],
      "text/plain": [
       "   child_id  parent_id\n",
       "0         0     132846\n",
       "1         0     110576\n",
       "2         0     164661\n",
       "3         6     152516\n",
       "4        18      39078"
      ]
     },
     "execution_count": 98,
     "metadata": {},
     "output_type": "execute_result"
    }
   ],
   "source": [
    "record_rel.head()"
   ]
  },
  {
   "cell_type": "code",
   "execution_count": 103,
   "metadata": {
    "collapsed": false
   },
   "outputs": [
    {
     "data": {
      "text/plain": [
       "(47917, 2)"
      ]
     },
     "execution_count": 103,
     "metadata": {},
     "output_type": "execute_result"
    }
   ],
   "source": [
    "record_rel.shape"
   ]
  },
  {
   "cell_type": "code",
   "execution_count": 100,
   "metadata": {
    "collapsed": false
   },
   "outputs": [
    {
     "data": {
      "text/plain": [
       "[164661, 0, 132846, 110576]"
      ]
     },
     "execution_count": 100,
     "metadata": {},
     "output_type": "execute_result"
    }
   ],
   "source": [
    "#make sure it works by testing consistency with get_family\n",
    "get_family(data,0)"
   ]
  },
  {
   "cell_type": "code",
   "execution_count": 141,
   "metadata": {
    "collapsed": false
   },
   "outputs": [],
   "source": [
    "if 'database_creator' in sys.modules:\n",
    "    del sys.modules['database_creator']\n",
    "from database_creator import *"
   ]
  },
  {
   "cell_type": "code",
   "execution_count": 144,
   "metadata": {
    "collapsed": false
   },
   "outputs": [],
   "source": [
    "#generate location table\n",
    "comp_timer = timer()\n",
    "data, location = location_table(data)\n",
    "comp_timer.pause()"
   ]
  },
  {
   "cell_type": "code",
   "execution_count": 152,
   "metadata": {
    "collapsed": false,
    "scrolled": true
   },
   "outputs": [
    {
     "name": "stdout",
     "output_type": "stream",
     "text": [
      "7.07 min\n"
     ]
    }
   ],
   "source": [
    "print('%.2f min' % comp_timer.report())"
   ]
  },
  {
   "cell_type": "code",
   "execution_count": 146,
   "metadata": {
    "collapsed": false
   },
   "outputs": [
    {
     "data": {
      "text/plain": [
       "10000    8300\n",
       "10001    8301\n",
       "10002    3544\n",
       "10003    8302\n",
       "10004    3119\n",
       "10005    8303\n",
       "Name: location_id, dtype: int64"
      ]
     },
     "execution_count": 146,
     "metadata": {},
     "output_type": "execute_result"
    }
   ],
   "source": [
    "data.loc[10000:10005,'location_id']"
   ]
  },
  {
   "cell_type": "code",
   "execution_count": 147,
   "metadata": {
    "collapsed": false
   },
   "outputs": [
    {
     "data": {
      "text/html": [
       "<div>\n",
       "<style scoped>\n",
       "    .dataframe tbody tr th:only-of-type {\n",
       "        vertical-align: middle;\n",
       "    }\n",
       "\n",
       "    .dataframe tbody tr th {\n",
       "        vertical-align: top;\n",
       "    }\n",
       "\n",
       "    .dataframe thead th {\n",
       "        text-align: right;\n",
       "    }\n",
       "</style>\n",
       "<table border=\"1\" class=\"dataframe\">\n",
       "  <thead>\n",
       "    <tr style=\"text-align: right;\">\n",
       "      <th></th>\n",
       "      <th>the_geom</th>\n",
       "      <th>location_id</th>\n",
       "      <th>shape_length</th>\n",
       "      <th>shape_area</th>\n",
       "      <th>address</th>\n",
       "    </tr>\n",
       "  </thead>\n",
       "  <tbody>\n",
       "    <tr>\n",
       "      <th>0</th>\n",
       "      <td>MULTIPOLYGON (((-122.438540755 37.744993973, -...</td>\n",
       "      <td>20690.0</td>\n",
       "      <td>0.000837</td>\n",
       "      <td>3.404328e-08</td>\n",
       "      <td>825 DUNCAN ST 94131</td>\n",
       "    </tr>\n",
       "    <tr>\n",
       "      <th>1</th>\n",
       "      <td>MULTIPOLYGON (((-122.418368736 37.797849736, -...</td>\n",
       "      <td>54655.0</td>\n",
       "      <td>0.000907</td>\n",
       "      <td>2.675426e-08</td>\n",
       "      <td>1175 GREEN ST, SAN FRANCISCO, CA 94109</td>\n",
       "    </tr>\n",
       "    <tr>\n",
       "      <th>2</th>\n",
       "      <td>MULTIPOLYGON (((-122.427835182 37.754438944, -...</td>\n",
       "      <td>13236.0</td>\n",
       "      <td>0.000829</td>\n",
       "      <td>2.374917e-08</td>\n",
       "      <td>1020 CHURCH ST, #0001, SAN FRANCISCO, CA 94114</td>\n",
       "    </tr>\n",
       "    <tr>\n",
       "      <th>3</th>\n",
       "      <td>MULTIPOLYGON (((-122.383204945 37.730905356, -...</td>\n",
       "      <td>54227.0</td>\n",
       "      <td>0.032722</td>\n",
       "      <td>4.102967e-06</td>\n",
       "      <td>0 INGALLS ST, SAN FRANCISCO, CA</td>\n",
       "    </tr>\n",
       "    <tr>\n",
       "      <th>4</th>\n",
       "      <td>MULTIPOLYGON (((-122.433177812 37.752553624, -...</td>\n",
       "      <td>2777.0</td>\n",
       "      <td>0.000799</td>\n",
       "      <td>2.703637e-08</td>\n",
       "      <td>4055 23RD ST, SAN FRANCISCO, CA 94114</td>\n",
       "    </tr>\n",
       "  </tbody>\n",
       "</table>\n",
       "</div>"
      ],
      "text/plain": [
       "                                            the_geom  location_id  \\\n",
       "0  MULTIPOLYGON (((-122.438540755 37.744993973, -...      20690.0   \n",
       "1  MULTIPOLYGON (((-122.418368736 37.797849736, -...      54655.0   \n",
       "2  MULTIPOLYGON (((-122.427835182 37.754438944, -...      13236.0   \n",
       "3  MULTIPOLYGON (((-122.383204945 37.730905356, -...      54227.0   \n",
       "4  MULTIPOLYGON (((-122.433177812 37.752553624, -...       2777.0   \n",
       "\n",
       "   shape_length    shape_area                                         address  \n",
       "0      0.000837  3.404328e-08                             825 DUNCAN ST 94131  \n",
       "1      0.000907  2.675426e-08          1175 GREEN ST, SAN FRANCISCO, CA 94109  \n",
       "2      0.000829  2.374917e-08  1020 CHURCH ST, #0001, SAN FRANCISCO, CA 94114  \n",
       "3      0.032722  4.102967e-06                 0 INGALLS ST, SAN FRANCISCO, CA  \n",
       "4      0.000799  2.703637e-08           4055 23RD ST, SAN FRANCISCO, CA 94114  "
      ]
     },
     "execution_count": 147,
     "metadata": {},
     "output_type": "execute_result"
    }
   ],
   "source": [
    "location.head()"
   ]
  },
  {
   "cell_type": "markdown",
   "metadata": {},
   "source": [
    "# Building stories\n",
    "I thought I'd look at a few examples of buildings, to get a sense of what they look like.\n",
    "\n",
    "Overall, my impression is that there are a lot of unrelated stories going on with each building.  Sometimes there are multiple project proposals, sometimes there are a bunch of miscellaneous stuff like complaints.  I'm still not sure how to determine the status of a project, but if the information is spread across multiple rows it may be difficult to figure out which rows to look at.  No, the 'family' doesn't help, I checked."
   ]
  },
  {
   "cell_type": "code",
   "execution_count": 126,
   "metadata": {
    "collapsed": true
   },
   "outputs": [],
   "source": [
    "def tell_story(data,row):\n",
    "    building = get_building(data,row)\n",
    "    location = data.loc[building,:]\n",
    "    family_ids = divide_by_family(data,building)\n",
    "    #print the first valid address\n",
    "    for i in range(location.shape[0]):\n",
    "        if not pd.isna(location['address'].iloc[i]):\n",
    "            print(location['address'].iloc[i])\n",
    "            break\n",
    "    location.sort_values('date_opened',inplace=True)\n",
    "    for i in range(location.shape[0]):\n",
    "        print('')\n",
    "        #print('family %s' % family_ids[location.index[i]],location['date_opened'].iloc[i], location['record_type'].iloc[i], location['record_status'].iloc[i])\n",
    "        print(location['date_opened'].iloc[i], location['record_type'].iloc[i], location['record_status'].iloc[i])\n",
    "        print(location['description'].iloc[i])"
   ]
  },
  {
   "cell_type": "code",
   "execution_count": 68,
   "metadata": {
    "collapsed": false
   },
   "outputs": [
    {
     "name": "stdout",
     "output_type": "stream",
     "text": [
      "[82, 5861, 5864, 9766, 18982, 28271, 49426, 89982, 98653, 108095, 138800, 145264, 150667, 152836, 163170, 169650, 178576, 183313]\n"
     ]
    }
   ],
   "source": [
    "i = 82\n",
    "print(get_building(data,i))"
   ]
  },
  {
   "cell_type": "code",
   "execution_count": 6,
   "metadata": {
    "collapsed": false,
    "scrolled": true
   },
   "outputs": [
    {
     "data": {
      "text/plain": [
       "82                                        234 01ST ST 94105\n",
       "5861                                      246 01ST ST 94105\n",
       "5864                                      234 01ST ST 94105\n",
       "9766                                      234 01ST ST 94105\n",
       "18982                  234 01ST ST, SAN FRANCISCO, CA 94105\n",
       "28271      246 01ST ST, #3RD FLOOR, SAN FRANCISCO, CA 94105\n",
       "49426                  234 01ST ST, SAN FRANCISCO, CA 94105\n",
       "89982                  234 01ST ST, SAN FRANCISCO, CA 94105\n",
       "98653                                     234 01ST ST 94105\n",
       "108095                                    246 01ST ST 94105\n",
       "138800                                    246 01ST ST 94105\n",
       "145264                                    246 01ST ST 94105\n",
       "150667                                    246 01ST ST 94105\n",
       "152836                                    246 01ST ST 94105\n",
       "163170    246 01ST ST, #STREET LEV, SAN FRANCISCO, CA 94105\n",
       "169650                                    246 01ST ST 94105\n",
       "178576                                    246 01ST ST 94105\n",
       "183313                 234 01ST ST, SAN FRANCISCO, CA 94105\n",
       "Name: address, dtype: object"
      ]
     },
     "execution_count": 6,
     "metadata": {},
     "output_type": "execute_result"
    }
   ],
   "source": [
    "#we can see that even though it's just one building, the address is inconsistent.\n",
    "data.loc[get_building(data,i),'address']"
   ]
  },
  {
   "cell_type": "code",
   "execution_count": 127,
   "metadata": {
    "collapsed": false
   },
   "outputs": [],
   "source": [
    "#I'm commenting out the part where I print the story, to reduce clutter\n",
    "#tell_story(data,82)"
   ]
  },
  {
   "cell_type": "markdown",
   "metadata": {},
   "source": [
    "234 1st St is an apartment building (which also has the address 246 1st St).  In 2006 there was a permit to create a massage establishment on the ground floor.  In 2008, there was a permit to move a tenant on the third floor.  There are a bunch of permits and project proposals related to AT&T and T-mobile wanting to replace equipment at the top of the building.  In 2015, there was a proposal to renovate the building.  It starts out as a PRV (project review meeting), followed by a PRJ (project profile).  A year later they file a PTA (permit to alter), which is approved.  However, the status of the project is marked as \"under review\" which might mean they still haven't gotten permission.\n",
    "\n",
    "In 2017, there are a few extra entries.  There are two letters: one TDU (notice of use), and one ZAV (zoning verification).  And it seems like someone applied for it to be designated as a historical landmark, which was approved.\n",
    "\n",
    "TL;DR: there are a lot of things going on in a single building.  There was one major construction proposal, which I don't think ever got through.  And I wonder if opponents of the proposal made the building into a landmark."
   ]
  },
  {
   "cell_type": "code",
   "execution_count": 70,
   "metadata": {
    "collapsed": false
   },
   "outputs": [],
   "source": [
    "#tell_story(data,3)"
   ]
  },
  {
   "cell_type": "markdown",
   "metadata": {},
   "source": [
    "900 Sansome is a public parking lot.  In 2009 there was one project to replace a window, which had to get through COA and CUA, but is apparently closed, so maybe it passed?  Most of the rest seems to be an annual renewal of some permit for parking facilities.  There are also a few complaints about signs being wrong"
   ]
  },
  {
   "cell_type": "code",
   "execution_count": 71,
   "metadata": {
    "collapsed": false
   },
   "outputs": [],
   "source": [
    "#tell_story(data,0)"
   ]
  },
  {
   "cell_type": "markdown",
   "metadata": {},
   "source": [
    "875 Sansome is currently a two-story office space.  Since 2016 they have been looking into replacing it with a 6-story mixed use building.  A project profile was finally made in 2018, and it would add 6 residential units (which I take it means that all of them are market rate).  The CUA is currently under review."
   ]
  },
  {
   "cell_type": "code",
   "execution_count": 95,
   "metadata": {
    "collapsed": false
   },
   "outputs": [],
   "source": [
    "#tell_story(data,23499)"
   ]
  },
  {
   "cell_type": "markdown",
   "metadata": {},
   "source": [
    "383 King St is a condo building.  The project to construct it was started in 2006, and I presume that it finished.  Later, in 2016 and later, there are several complaints about illegal short-term rentals through AirBnB."
   ]
  },
  {
   "cell_type": "markdown",
   "metadata": {},
   "source": [
    "# Project statuses\n",
    "Here I try to determine what kinds of statuses a project can have.  Work in progress.  I think I'll have to e-mail the planning department."
   ]
  },
  {
   "cell_type": "code",
   "execution_count": 98,
   "metadata": {
    "collapsed": false,
    "scrolled": false
   },
   "outputs": [
    {
     "data": {
      "text/plain": [
       "array(['Accepted', 'Withdrawn', 'Closed', 'Closed - Withdrawn', 'Open',\n",
       "       'Under Review', 'Application Accepted', nan, 'Complete',\n",
       "       'Submitted', 'Pending', 'Closed - Approved', 'Approved', 'On Hold',\n",
       "       'Incomplete', 'Actions Pending', 'Pending Review', 'Denied',\n",
       "       'Disapproved', 'Closed - Complete'], dtype=object)"
      ]
     },
     "execution_count": 98,
     "metadata": {},
     "output_type": "execute_result"
    }
   ],
   "source": [
    "data.loc[data['record_type_category']=='PRJ','record_status'].unique()"
   ]
  },
  {
   "cell_type": "markdown",
   "metadata": {},
   "source": [
    "# Planner table\n",
    "Another table for the database"
   ]
  },
  {
   "cell_type": "code",
   "execution_count": 91,
   "metadata": {
    "collapsed": false
   },
   "outputs": [
    {
     "name": "stdout",
     "output_type": "stream",
     "text": [
      "140186\n",
      "83021\n",
      "84843\n",
      "84630\n"
     ]
    }
   ],
   "source": [
    "#one tricky part is that the id, e-mail, name, and phone aren't always given\n",
    "print(sum(~pd.isna(data['planner_id'])))\n",
    "print(sum(~pd.isna(data['planner_email'])))\n",
    "print(sum(~pd.isna(data['planner_name'])))\n",
    "print(sum(~pd.isna(data['planner_phone'])))\n",
    "#after some testing, it seems that this is consistent for any given planner_id.\n",
    "#I guess a lot of planners just have some info unavailable."
   ]
  },
  {
   "cell_type": "code",
   "execution_count": 73,
   "metadata": {
    "collapsed": true
   },
   "outputs": [],
   "source": [
    "if 'database_creator' in sys.modules:\n",
    "    del sys.modules['database_creator']\n",
    "from database_creator import *"
   ]
  },
  {
   "cell_type": "code",
   "execution_count": 200,
   "metadata": {
    "collapsed": false
   },
   "outputs": [
    {
     "name": "stdout",
     "output_type": "stream",
     "text": [
      "Time passed: 0.10 min\n"
     ]
    }
   ],
   "source": [
    "comp_timer = timer()\n",
    "data, planner = planner_table(data)\n",
    "comp_timer.pause()\n",
    "comp_timer.printreport()"
   ]
  },
  {
   "cell_type": "code",
   "execution_count": 106,
   "metadata": {
    "collapsed": false
   },
   "outputs": [
    {
     "data": {
      "text/html": [
       "<div>\n",
       "<style scoped>\n",
       "    .dataframe tbody tr th:only-of-type {\n",
       "        vertical-align: middle;\n",
       "    }\n",
       "\n",
       "    .dataframe tbody tr th {\n",
       "        vertical-align: top;\n",
       "    }\n",
       "\n",
       "    .dataframe thead th {\n",
       "        text-align: right;\n",
       "    }\n",
       "</style>\n",
       "<table border=\"1\" class=\"dataframe\">\n",
       "  <thead>\n",
       "    <tr style=\"text-align: right;\">\n",
       "      <th></th>\n",
       "      <th>planner_strid</th>\n",
       "      <th>planner_id</th>\n",
       "      <th>planner_email</th>\n",
       "      <th>planner_phone</th>\n",
       "      <th>planner_name</th>\n",
       "    </tr>\n",
       "  </thead>\n",
       "  <tbody>\n",
       "    <tr>\n",
       "      <th>0</th>\n",
       "      <td>BS</td>\n",
       "      <td>385.0</td>\n",
       "      <td>NaN</td>\n",
       "      <td>NaN</td>\n",
       "      <td>NaN</td>\n",
       "    </tr>\n",
       "    <tr>\n",
       "      <th>1</th>\n",
       "      <td>GWONG</td>\n",
       "      <td>171.0</td>\n",
       "      <td>NaN</td>\n",
       "      <td>NaN</td>\n",
       "      <td>NaN</td>\n",
       "    </tr>\n",
       "    <tr>\n",
       "      <th>2</th>\n",
       "      <td>HGITELMA</td>\n",
       "      <td>196.0</td>\n",
       "      <td>NaN</td>\n",
       "      <td>NaN</td>\n",
       "      <td>NaN</td>\n",
       "    </tr>\n",
       "    <tr>\n",
       "      <th>3</th>\n",
       "      <td>DSIDER</td>\n",
       "      <td>197.0</td>\n",
       "      <td>dan.sider@sfgov.org</td>\n",
       "      <td>415-558-6697</td>\n",
       "      <td>Dan Sider</td>\n",
       "    </tr>\n",
       "    <tr>\n",
       "      <th>4</th>\n",
       "      <td>JSHAMBRA</td>\n",
       "      <td>3.0</td>\n",
       "      <td>NaN</td>\n",
       "      <td>NaN</td>\n",
       "      <td>NaN</td>\n",
       "    </tr>\n",
       "  </tbody>\n",
       "</table>\n",
       "</div>"
      ],
      "text/plain": [
       "  planner_strid  planner_id        planner_email planner_phone planner_name\n",
       "0            BS       385.0                  NaN           NaN          NaN\n",
       "1         GWONG       171.0                  NaN           NaN          NaN\n",
       "2      HGITELMA       196.0                  NaN           NaN          NaN\n",
       "3        DSIDER       197.0  dan.sider@sfgov.org  415-558-6697    Dan Sider\n",
       "4      JSHAMBRA         3.0                  NaN           NaN          NaN"
      ]
     },
     "execution_count": 106,
     "metadata": {},
     "output_type": "execute_result"
    }
   ],
   "source": [
    "planner.head()"
   ]
  },
  {
   "cell_type": "markdown",
   "metadata": {},
   "source": [
    "# Tables for sparse features\n",
    "Something that really blows up the size of the data, is that there are a bunch of columns which are very sparsely populated.  We have:\n",
    "\n",
    "- prj_desc: Project Descriptions.  Mostly a bunch of checkboxes in these forms that people fill out.  There are two exceptions, namely MCD_REFERRAL and ENVIRONMENTAL_REVIEW_TYPE, which have written fields instead of checkboxes.  The written fields will be given an additional table\n",
    "- land_use: For PRJ records, a measure of pre-existing, proposed, and net change in land use, in many land use categories.  Always in square feet.\n",
    "- prj_feature: For PRJ records, a measure of pre-existing, proposed, and net change number of units of various types.  e.g. parking spaces or affordable housing units.  There's also a space for people to write in some \"other\" feature.  And there are a couple \"proposed\" columns which are empty for some reason.\n",
    "- dwelling: For PRJ records, a measure of pre-existing, proposed, and net change number of residential dwelling units of various types.  e.g. 1BR, 2BR.  ADUs (Accessory Dwelling Units) also list an area which I will put in the adu_area table."
   ]
  },
  {
   "cell_type": "code",
   "execution_count": 122,
   "metadata": {
    "collapsed": false
   },
   "outputs": [],
   "source": [
    "#first, let's fix those two broken prj_feature columns\n",
    "data = fix_prj_features(data)"
   ]
  },
  {
   "cell_type": "code",
   "execution_count": 236,
   "metadata": {
    "collapsed": false,
    "scrolled": false
   },
   "outputs": [
    {
     "name": "stdout",
     "output_type": "stream",
     "text": [
      "\"CHANGE_OF_USE\", \"ADDITIONS\", \"NEW_CONSTRUCTION\", \"LEG_ZONE_CHANGE\", \"DEMOLITION\", \"LOT_LINE_ADJUST\", \"FACADE_ALT\", \"ROW_IMPROVE\", \"OTHER_PRJ_DESC\", \"SPECIAL_NEEDS\", \"SENIOR\", \"AFFORDABLE_UNITS\", \"STUDENT\", \"INCLUSIONARY\", \"STATE_DENSITY_BONUS\", \"ADU\", \"FORMULA_RETAIL\", \"MCD\", \"TOBACCO\", \"FINANCIAL\", \"MASSAGE\", \"MCD_REFERRAL\", \"OTHER_NON_RES\", \"ENVIRONMENTAL_REVIEW_TYPE\", \n"
     ]
    }
   ],
   "source": [
    "#create list of column names for hardcoding purposes\n",
    "prj_desc_str = ''\n",
    "for i in range(27,51):\n",
    "    prj_desc_str += '\"' + fields.loc[i,'Field'] + '\", '\n",
    "print(prj_desc_str)"
   ]
  },
  {
   "cell_type": "code",
   "execution_count": 74,
   "metadata": {
    "collapsed": false,
    "scrolled": true
   },
   "outputs": [
    {
     "name": "stderr",
     "output_type": "stream",
     "text": [
      "C:\\Users\\Tristan\\Anaconda3\\lib\\site-packages\\pandas\\core\\ops.py:1649: FutureWarning: elementwise comparison failed; returning scalar instead, but in the future will perform elementwise comparison\n",
      "  result = method(y)\n"
     ]
    }
   ],
   "source": [
    "prj_desc, prj_desc_detail = prj_desc_table(data)"
   ]
  },
  {
   "cell_type": "code",
   "execution_count": 173,
   "metadata": {
    "collapsed": false
   },
   "outputs": [
    {
     "data": {
      "text/html": [
       "<div>\n",
       "<style scoped>\n",
       "    .dataframe tbody tr th:only-of-type {\n",
       "        vertical-align: middle;\n",
       "    }\n",
       "\n",
       "    .dataframe tbody tr th {\n",
       "        vertical-align: top;\n",
       "    }\n",
       "\n",
       "    .dataframe thead th {\n",
       "        text-align: right;\n",
       "    }\n",
       "</style>\n",
       "<table border=\"1\" class=\"dataframe\">\n",
       "  <thead>\n",
       "    <tr style=\"text-align: right;\">\n",
       "      <th></th>\n",
       "      <th>detail</th>\n",
       "      <th>prj_desc_id</th>\n",
       "    </tr>\n",
       "  </thead>\n",
       "  <tbody>\n",
       "    <tr>\n",
       "      <th>0</th>\n",
       "      <td>Restaurant</td>\n",
       "      <td>13024</td>\n",
       "    </tr>\n",
       "    <tr>\n",
       "      <th>1</th>\n",
       "      <td>Medical Cannabis Dispensary</td>\n",
       "      <td>13025</td>\n",
       "    </tr>\n",
       "    <tr>\n",
       "      <th>2</th>\n",
       "      <td>Restaurant</td>\n",
       "      <td>13026</td>\n",
       "    </tr>\n",
       "    <tr>\n",
       "      <th>3</th>\n",
       "      <td>Limited-Restaurant</td>\n",
       "      <td>13027</td>\n",
       "    </tr>\n",
       "    <tr>\n",
       "      <th>4</th>\n",
       "      <td>Bar</td>\n",
       "      <td>13028</td>\n",
       "    </tr>\n",
       "  </tbody>\n",
       "</table>\n",
       "</div>"
      ],
      "text/plain": [
       "                        detail  prj_desc_id\n",
       "0                   Restaurant        13024\n",
       "1  Medical Cannabis Dispensary        13025\n",
       "2                   Restaurant        13026\n",
       "3           Limited-Restaurant        13027\n",
       "4                          Bar        13028"
      ]
     },
     "execution_count": 173,
     "metadata": {},
     "output_type": "execute_result"
    }
   ],
   "source": [
    "#here, prj_desc_id refers to the index of prj_desc\n",
    "prj_desc_detail.head()"
   ]
  },
  {
   "cell_type": "code",
   "execution_count": 182,
   "metadata": {
    "collapsed": false
   },
   "outputs": [
    {
     "data": {
      "text/html": [
       "<div>\n",
       "<style scoped>\n",
       "    .dataframe tbody tr th:only-of-type {\n",
       "        vertical-align: middle;\n",
       "    }\n",
       "\n",
       "    .dataframe tbody tr th {\n",
       "        vertical-align: top;\n",
       "    }\n",
       "\n",
       "    .dataframe thead th {\n",
       "        text-align: right;\n",
       "    }\n",
       "</style>\n",
       "<table border=\"1\" class=\"dataframe\">\n",
       "  <thead>\n",
       "    <tr style=\"text-align: right;\">\n",
       "      <th></th>\n",
       "      <th>desc_type</th>\n",
       "      <th>record_id</th>\n",
       "    </tr>\n",
       "  </thead>\n",
       "  <tbody>\n",
       "    <tr>\n",
       "      <th>0</th>\n",
       "      <td>CHANGE_OF_USE</td>\n",
       "      <td>0</td>\n",
       "    </tr>\n",
       "    <tr>\n",
       "      <th>1</th>\n",
       "      <td>CHANGE_OF_USE</td>\n",
       "      <td>133</td>\n",
       "    </tr>\n",
       "    <tr>\n",
       "      <th>2</th>\n",
       "      <td>CHANGE_OF_USE</td>\n",
       "      <td>152</td>\n",
       "    </tr>\n",
       "    <tr>\n",
       "      <th>3</th>\n",
       "      <td>CHANGE_OF_USE</td>\n",
       "      <td>166</td>\n",
       "    </tr>\n",
       "    <tr>\n",
       "      <th>4</th>\n",
       "      <td>CHANGE_OF_USE</td>\n",
       "      <td>312</td>\n",
       "    </tr>\n",
       "  </tbody>\n",
       "</table>\n",
       "</div>"
      ],
      "text/plain": [
       "       desc_type  record_id\n",
       "0  CHANGE_OF_USE          0\n",
       "1  CHANGE_OF_USE        133\n",
       "2  CHANGE_OF_USE        152\n",
       "3  CHANGE_OF_USE        166\n",
       "4  CHANGE_OF_USE        312"
      ]
     },
     "execution_count": 182,
     "metadata": {},
     "output_type": "execute_result"
    }
   ],
   "source": [
    "#here, record_id refers to the index of data\n",
    "prj_desc.head()"
   ]
  },
  {
   "cell_type": "code",
   "execution_count": 266,
   "metadata": {
    "collapsed": false
   },
   "outputs": [
    {
     "name": "stdout",
     "output_type": "stream",
     "text": [
      "\"RC\", \"RESIDENTIAL\", \"CIE\", \"PDR\", \"OFFICE\", \"MEDICAL\", \"VISITOR\", \"PARKING_SPACES\", \n"
     ]
    }
   ],
   "source": [
    "#next let's do land_use\n",
    "land_use_str = ''\n",
    "for i in range(51,75,3):\n",
    "    land_use_str += '\"' + fields.loc[i,'Field'][9:-6] + '\", '\n",
    "print(land_use_str)"
   ]
  },
  {
   "cell_type": "code",
   "execution_count": 281,
   "metadata": {
    "collapsed": true
   },
   "outputs": [],
   "source": [
    "if 'database_creator' in sys.modules:\n",
    "    del sys.modules['database_creator']\n",
    "from database_creator import *"
   ]
  },
  {
   "cell_type": "code",
   "execution_count": 233,
   "metadata": {
    "collapsed": false
   },
   "outputs": [],
   "source": [
    "land_use = land_use_table(data)"
   ]
  },
  {
   "cell_type": "code",
   "execution_count": 234,
   "metadata": {
    "collapsed": false
   },
   "outputs": [
    {
     "data": {
      "text/html": [
       "<div>\n",
       "<style scoped>\n",
       "    .dataframe tbody tr th:only-of-type {\n",
       "        vertical-align: middle;\n",
       "    }\n",
       "\n",
       "    .dataframe tbody tr th {\n",
       "        vertical-align: top;\n",
       "    }\n",
       "\n",
       "    .dataframe thead th {\n",
       "        text-align: right;\n",
       "    }\n",
       "</style>\n",
       "<table border=\"1\" class=\"dataframe\">\n",
       "  <thead>\n",
       "    <tr style=\"text-align: right;\">\n",
       "      <th></th>\n",
       "      <th>land_use_exist</th>\n",
       "      <th>land_use_net</th>\n",
       "      <th>land_use_prop</th>\n",
       "      <th>land_use_type</th>\n",
       "      <th>record_id</th>\n",
       "    </tr>\n",
       "  </thead>\n",
       "  <tbody>\n",
       "    <tr>\n",
       "      <th>0</th>\n",
       "      <td>0.0</td>\n",
       "      <td>2840.0</td>\n",
       "      <td>2840.0</td>\n",
       "      <td>LAND_USE_RC</td>\n",
       "      <td>0</td>\n",
       "    </tr>\n",
       "    <tr>\n",
       "      <th>1</th>\n",
       "      <td>0.0</td>\n",
       "      <td>1740.0</td>\n",
       "      <td>1740.0</td>\n",
       "      <td>LAND_USE_RC</td>\n",
       "      <td>133</td>\n",
       "    </tr>\n",
       "    <tr>\n",
       "      <th>2</th>\n",
       "      <td>2747.0</td>\n",
       "      <td>-1587.0</td>\n",
       "      <td>1160.0</td>\n",
       "      <td>LAND_USE_RC</td>\n",
       "      <td>173</td>\n",
       "    </tr>\n",
       "    <tr>\n",
       "      <th>3</th>\n",
       "      <td>940.0</td>\n",
       "      <td>0.0</td>\n",
       "      <td>940.0</td>\n",
       "      <td>LAND_USE_RC</td>\n",
       "      <td>225</td>\n",
       "    </tr>\n",
       "    <tr>\n",
       "      <th>4</th>\n",
       "      <td>20417.0</td>\n",
       "      <td>1868.0</td>\n",
       "      <td>22285.0</td>\n",
       "      <td>LAND_USE_RC</td>\n",
       "      <td>240</td>\n",
       "    </tr>\n",
       "  </tbody>\n",
       "</table>\n",
       "</div>"
      ],
      "text/plain": [
       "   land_use_exist  land_use_net  land_use_prop land_use_type  record_id\n",
       "0             0.0        2840.0         2840.0   LAND_USE_RC          0\n",
       "1             0.0        1740.0         1740.0   LAND_USE_RC        133\n",
       "2          2747.0       -1587.0         1160.0   LAND_USE_RC        173\n",
       "3           940.0           0.0          940.0   LAND_USE_RC        225\n",
       "4         20417.0        1868.0        22285.0   LAND_USE_RC        240"
      ]
     },
     "execution_count": 234,
     "metadata": {},
     "output_type": "execute_result"
    }
   ],
   "source": [
    "land_use.head()"
   ]
  },
  {
   "cell_type": "code",
   "execution_count": 265,
   "metadata": {
    "collapsed": false,
    "scrolled": false
   },
   "outputs": [
    {
     "name": "stdout",
     "output_type": "stream",
     "text": [
      "\"AFFORDABLE\", \"HOTEL_ROOMS\", \"MARKET_RATE\", \"BUILD\", \"STORIE\", \"PARKING\", \"LOADING\", \"BIKE\", \"CAR_SHARE\", \"USABLE\", \"PUBLIC\", \"ART\", \"ROOF\", \"SOLAR\", \"LIVING\", \n"
     ]
    }
   ],
   "source": [
    "#next project features\n",
    "prj_feature_str = ''\n",
    "for i in range(75,120,3):\n",
    "    prj_feature_str += '\"' + fields.loc[i,'Field'][12:-6] + '\", '\n",
    "print(prj_feature_str)\n",
    "#note: there's a mistake in the fields table, which results in \"STORIES\" becoming \"STORIE\""
   ]
  },
  {
   "cell_type": "code",
   "execution_count": 270,
   "metadata": {
    "collapsed": false
   },
   "outputs": [],
   "source": [
    "prj_feature = prj_feature_table(data)"
   ]
  },
  {
   "cell_type": "code",
   "execution_count": 271,
   "metadata": {
    "collapsed": false
   },
   "outputs": [
    {
     "data": {
      "text/html": [
       "<div>\n",
       "<style scoped>\n",
       "    .dataframe tbody tr th:only-of-type {\n",
       "        vertical-align: middle;\n",
       "    }\n",
       "\n",
       "    .dataframe tbody tr th {\n",
       "        vertical-align: top;\n",
       "    }\n",
       "\n",
       "    .dataframe thead th {\n",
       "        text-align: right;\n",
       "    }\n",
       "</style>\n",
       "<table border=\"1\" class=\"dataframe\">\n",
       "  <thead>\n",
       "    <tr style=\"text-align: right;\">\n",
       "      <th></th>\n",
       "      <th>prj_feature_exist</th>\n",
       "      <th>prj_feature_net</th>\n",
       "      <th>prj_feature_prop</th>\n",
       "      <th>prj_feature_type</th>\n",
       "      <th>record_id</th>\n",
       "    </tr>\n",
       "  </thead>\n",
       "  <tbody>\n",
       "    <tr>\n",
       "      <th>0</th>\n",
       "      <td>0.0</td>\n",
       "      <td>6.0</td>\n",
       "      <td>6.0</td>\n",
       "      <td>AFFORDABLE</td>\n",
       "      <td>133</td>\n",
       "    </tr>\n",
       "    <tr>\n",
       "      <th>1</th>\n",
       "      <td>8.0</td>\n",
       "      <td>2.0</td>\n",
       "      <td>10.0</td>\n",
       "      <td>AFFORDABLE</td>\n",
       "      <td>233</td>\n",
       "    </tr>\n",
       "    <tr>\n",
       "      <th>2</th>\n",
       "      <td>1.0</td>\n",
       "      <td>0.0</td>\n",
       "      <td>1.0</td>\n",
       "      <td>AFFORDABLE</td>\n",
       "      <td>273</td>\n",
       "    </tr>\n",
       "    <tr>\n",
       "      <th>3</th>\n",
       "      <td>198.0</td>\n",
       "      <td>0.0</td>\n",
       "      <td>198.0</td>\n",
       "      <td>AFFORDABLE</td>\n",
       "      <td>469</td>\n",
       "    </tr>\n",
       "    <tr>\n",
       "      <th>4</th>\n",
       "      <td>13.0</td>\n",
       "      <td>0.0</td>\n",
       "      <td>13.0</td>\n",
       "      <td>AFFORDABLE</td>\n",
       "      <td>688</td>\n",
       "    </tr>\n",
       "  </tbody>\n",
       "</table>\n",
       "</div>"
      ],
      "text/plain": [
       "   prj_feature_exist  prj_feature_net  prj_feature_prop prj_feature_type  \\\n",
       "0                0.0              6.0               6.0       AFFORDABLE   \n",
       "1                8.0              2.0              10.0       AFFORDABLE   \n",
       "2                1.0              0.0               1.0       AFFORDABLE   \n",
       "3              198.0              0.0             198.0       AFFORDABLE   \n",
       "4               13.0              0.0              13.0       AFFORDABLE   \n",
       "\n",
       "   record_id  \n",
       "0        133  \n",
       "1        233  \n",
       "2        273  \n",
       "3        469  \n",
       "4        688  "
      ]
     },
     "execution_count": 271,
     "metadata": {},
     "output_type": "execute_result"
    }
   ],
   "source": [
    "prj_feature.head()"
   ]
  },
  {
   "cell_type": "code",
   "execution_count": 276,
   "metadata": {
    "collapsed": false,
    "scrolled": true
   },
   "outputs": [
    {
     "name": "stdout",
     "output_type": "stream",
     "text": [
      "\"STUDIO\", \"1BR\", \"2BR\", \"3BR\", \"ADU_STUDIO\", \"ADU_1BR\", \"ADU_2BR\", \"ADU_3BR\", \"GH_ROOMS\", \"GH_BEDS\", \"SRO\", \"MICRO\", \n"
     ]
    }
   ],
   "source": [
    "#finally, dwelling types\n",
    "prj_feature_str = ''\n",
    "for i in range(124,136,3):\n",
    "    prj_feature_str += '\"' + fields.loc[i,'Field'][12:-6] + '\", '\n",
    "for i in range(136,152,4):\n",
    "    prj_feature_str += '\"' + fields.loc[i,'Field'][12:-6] + '\", '\n",
    "for i in range(152,164,3):\n",
    "    prj_feature_str += '\"' + fields.loc[i,'Field'][12:-6] + '\", '\n",
    "print(prj_feature_str)"
   ]
  },
  {
   "cell_type": "code",
   "execution_count": 282,
   "metadata": {
    "collapsed": false
   },
   "outputs": [],
   "source": [
    "dwelling, adu_area = dwelling_table(data)"
   ]
  },
  {
   "cell_type": "code",
   "execution_count": 283,
   "metadata": {
    "collapsed": false
   },
   "outputs": [
    {
     "data": {
      "text/html": [
       "<div>\n",
       "<style scoped>\n",
       "    .dataframe tbody tr th:only-of-type {\n",
       "        vertical-align: middle;\n",
       "    }\n",
       "\n",
       "    .dataframe tbody tr th {\n",
       "        vertical-align: top;\n",
       "    }\n",
       "\n",
       "    .dataframe thead th {\n",
       "        text-align: right;\n",
       "    }\n",
       "</style>\n",
       "<table border=\"1\" class=\"dataframe\">\n",
       "  <thead>\n",
       "    <tr style=\"text-align: right;\">\n",
       "      <th></th>\n",
       "      <th>dwelling_exist</th>\n",
       "      <th>dwelling_net</th>\n",
       "      <th>dwelling_prop</th>\n",
       "      <th>dwelling_type</th>\n",
       "      <th>record_id</th>\n",
       "    </tr>\n",
       "  </thead>\n",
       "  <tbody>\n",
       "    <tr>\n",
       "      <th>0</th>\n",
       "      <td>0.0</td>\n",
       "      <td>1.0</td>\n",
       "      <td>1.0</td>\n",
       "      <td>STUDIO</td>\n",
       "      <td>152</td>\n",
       "    </tr>\n",
       "    <tr>\n",
       "      <th>1</th>\n",
       "      <td>12.0</td>\n",
       "      <td>2.0</td>\n",
       "      <td>14.0</td>\n",
       "      <td>STUDIO</td>\n",
       "      <td>276</td>\n",
       "    </tr>\n",
       "    <tr>\n",
       "      <th>2</th>\n",
       "      <td>19.0</td>\n",
       "      <td>0.0</td>\n",
       "      <td>19.0</td>\n",
       "      <td>STUDIO</td>\n",
       "      <td>469</td>\n",
       "    </tr>\n",
       "    <tr>\n",
       "      <th>3</th>\n",
       "      <td>0.0</td>\n",
       "      <td>35.0</td>\n",
       "      <td>35.0</td>\n",
       "      <td>STUDIO</td>\n",
       "      <td>2422</td>\n",
       "    </tr>\n",
       "    <tr>\n",
       "      <th>4</th>\n",
       "      <td>45.0</td>\n",
       "      <td>0.0</td>\n",
       "      <td>45.0</td>\n",
       "      <td>STUDIO</td>\n",
       "      <td>3085</td>\n",
       "    </tr>\n",
       "  </tbody>\n",
       "</table>\n",
       "</div>"
      ],
      "text/plain": [
       "   dwelling_exist  dwelling_net  dwelling_prop dwelling_type  record_id\n",
       "0             0.0           1.0            1.0        STUDIO        152\n",
       "1            12.0           2.0           14.0        STUDIO        276\n",
       "2            19.0           0.0           19.0        STUDIO        469\n",
       "3             0.0          35.0           35.0        STUDIO       2422\n",
       "4            45.0           0.0           45.0        STUDIO       3085"
      ]
     },
     "execution_count": 283,
     "metadata": {},
     "output_type": "execute_result"
    }
   ],
   "source": [
    "dwelling.head()"
   ]
  },
  {
   "cell_type": "code",
   "execution_count": 284,
   "metadata": {
    "collapsed": false
   },
   "outputs": [
    {
     "data": {
      "text/html": [
       "<div>\n",
       "<style scoped>\n",
       "    .dataframe tbody tr th:only-of-type {\n",
       "        vertical-align: middle;\n",
       "    }\n",
       "\n",
       "    .dataframe tbody tr th {\n",
       "        vertical-align: top;\n",
       "    }\n",
       "\n",
       "    .dataframe thead th {\n",
       "        text-align: right;\n",
       "    }\n",
       "</style>\n",
       "<table border=\"1\" class=\"dataframe\">\n",
       "  <thead>\n",
       "    <tr style=\"text-align: right;\">\n",
       "      <th></th>\n",
       "      <th>adu_area</th>\n",
       "      <th>dwelling_id</th>\n",
       "    </tr>\n",
       "  </thead>\n",
       "  <tbody>\n",
       "    <tr>\n",
       "      <th>0</th>\n",
       "      <td>707.0</td>\n",
       "      <td>2085</td>\n",
       "    </tr>\n",
       "    <tr>\n",
       "      <th>1</th>\n",
       "      <td>242.0</td>\n",
       "      <td>2086</td>\n",
       "    </tr>\n",
       "    <tr>\n",
       "      <th>2</th>\n",
       "      <td>389.0</td>\n",
       "      <td>2087</td>\n",
       "    </tr>\n",
       "    <tr>\n",
       "      <th>3</th>\n",
       "      <td>360.0</td>\n",
       "      <td>2088</td>\n",
       "    </tr>\n",
       "    <tr>\n",
       "      <th>4</th>\n",
       "      <td>308.0</td>\n",
       "      <td>2089</td>\n",
       "    </tr>\n",
       "  </tbody>\n",
       "</table>\n",
       "</div>"
      ],
      "text/plain": [
       "   adu_area  dwelling_id\n",
       "0     707.0         2085\n",
       "1     242.0         2086\n",
       "2     389.0         2087\n",
       "3     360.0         2088\n",
       "4     308.0         2089"
      ]
     },
     "execution_count": 284,
     "metadata": {},
     "output_type": "execute_result"
    }
   ],
   "source": [
    "adu_area.head()"
   ]
  },
  {
   "cell_type": "markdown",
   "metadata": {},
   "source": [
    "# Calculating year/month/day"
   ]
  },
  {
   "cell_type": "code",
   "execution_count": 43,
   "metadata": {
    "collapsed": false
   },
   "outputs": [],
   "source": [
    "if 'database_creator' in sys.modules:\n",
    "    del sys.modules['database_creator']\n",
    "from database_creator import *"
   ]
  },
  {
   "cell_type": "code",
   "execution_count": 109,
   "metadata": {
    "collapsed": false,
    "scrolled": true
   },
   "outputs": [],
   "source": [
    "data = ymd(data)"
   ]
  },
  {
   "cell_type": "markdown",
   "metadata": {},
   "source": [
    "# Transferring to a SQL database"
   ]
  },
  {
   "cell_type": "code",
   "execution_count": 11,
   "metadata": {
    "collapsed": false
   },
   "outputs": [
    {
     "name": "stdout",
     "output_type": "stream",
     "text": [
      "Generating record_type table\n",
      "Time passed: 0.12 min\n",
      "Generating record_rel table\n",
      "Time passed: 0.02 min\n",
      "Generating location table\n",
      "Time passed: 8.05 min\n",
      "Generating planner table\n",
      "Time passed: 0.11 min\n",
      "Generating prj_desc tables\n"
     ]
    },
    {
     "name": "stderr",
     "output_type": "stream",
     "text": [
      "C:\\Users\\Tristan\\Anaconda3\\lib\\site-packages\\pandas\\core\\ops.py:1649: FutureWarning: elementwise comparison failed; returning scalar instead, but in the future will perform elementwise comparison\n",
      "  result = method(y)\n"
     ]
    },
    {
     "name": "stdout",
     "output_type": "stream",
     "text": [
      "Time passed: 0.01 min\n",
      "Generating land_use table\n",
      "Time passed: 0.01 min\n",
      "Generating prj_feature table\n",
      "Time passed: 0.24 min\n",
      "Generating dwelling tables\n",
      "Time passed: 0.02 min\n",
      "Generating year/month/day\n",
      "Time passed: 0.45 min\n"
     ]
    }
   ],
   "source": [
    "data, record_type, record_rel, location, planner, prj_desc, prj_desc_detail, land_use, prj_feature, dwelling, adu_area = prepare_data(data)"
   ]
  },
  {
   "cell_type": "code",
   "execution_count": 48,
   "metadata": {
    "collapsed": false
   },
   "outputs": [],
   "source": [
    "init_sql_database('test9.db', data, record_type, record_rel, location, planner, prj_desc,\n",
    "                      prj_desc_detail, land_use, prj_feature, dwelling, adu_area)"
   ]
  },
  {
   "cell_type": "code",
   "execution_count": 55,
   "metadata": {
    "collapsed": false
   },
   "outputs": [
    {
     "name": "stdout",
     "output_type": "stream",
     "text": [
      "[(707.0,), (242.0,), (389.0,), (360.0,), (308.0,), (None,), (352.0,), (433.0,), (459.0,), (229.0,), (None,), (330.0,), (420.0,), (None,), (624.0,)]\n"
     ]
    }
   ],
   "source": [
    "#just some code for testing\n",
    "import sqlite3 as lite\n",
    "con = lite.connect('test9.db')\n",
    "with con:\n",
    "    cur = con.cursor()\n",
    "    cur.execute('select area from adu_area where dwelling_id < 2100')\n",
    "    print(cur.fetchall())"
   ]
  },
  {
   "cell_type": "code",
   "execution_count": 56,
   "metadata": {
    "collapsed": false
   },
   "outputs": [
    {
     "data": {
      "text/plain": [
       "0     707.0\n",
       "1     242.0\n",
       "2     389.0\n",
       "3     360.0\n",
       "4     308.0\n",
       "5       NaN\n",
       "6     352.0\n",
       "7     433.0\n",
       "8     459.0\n",
       "9     229.0\n",
       "10      NaN\n",
       "Name: area, dtype: float64"
      ]
     },
     "execution_count": 56,
     "metadata": {},
     "output_type": "execute_result"
    }
   ],
   "source": [
    "adu_area.loc[0:10,'area']"
   ]
  }
 ],
 "metadata": {
  "anaconda-cloud": {},
  "kernelspec": {
   "display_name": "Python [Anaconda3]",
   "language": "python",
   "name": "Python [Anaconda3]"
  },
  "language_info": {
   "codemirror_mode": {
    "name": "ipython",
    "version": 3
   },
   "file_extension": ".py",
   "mimetype": "text/x-python",
   "name": "python",
   "nbconvert_exporter": "python",
   "pygments_lexer": "ipython3",
   "version": "3.5.5"
  }
 },
 "nbformat": 4,
 "nbformat_minor": 0
}
